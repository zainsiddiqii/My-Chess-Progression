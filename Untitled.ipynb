{
 "cells": [
  {
   "cell_type": "code",
   "execution_count": 1,
   "id": "4a9ca8b4-48d7-4b23-a907-aeaa5588f0ce",
   "metadata": {},
   "outputs": [],
   "source": [
    "import pandas as pd\n",
    "import numpy as np\n",
    "import seaborn as sns\n",
    "import matplotlib.pyplot as plt"
   ]
  },
  {
   "cell_type": "code",
   "execution_count": 2,
   "id": "a84c7c1e-05f7-4e7f-b460-6b96e1d0a192",
   "metadata": {},
   "outputs": [
    {
     "data": {
      "text/html": [
       "<div>\n",
       "<style scoped>\n",
       "    .dataframe tbody tr th:only-of-type {\n",
       "        vertical-align: middle;\n",
       "    }\n",
       "\n",
       "    .dataframe tbody tr th {\n",
       "        vertical-align: top;\n",
       "    }\n",
       "\n",
       "    .dataframe thead th {\n",
       "        text-align: right;\n",
       "    }\n",
       "</style>\n",
       "<table border=\"1\" class=\"dataframe\">\n",
       "  <thead>\n",
       "    <tr style=\"text-align: right;\">\n",
       "      <th></th>\n",
       "      <th>time_control</th>\n",
       "      <th>moves</th>\n",
       "      <th>date</th>\n",
       "      <th>time_format</th>\n",
       "      <th>colour</th>\n",
       "      <th>my_rating</th>\n",
       "      <th>opponent_rating</th>\n",
       "      <th>opponent</th>\n",
       "      <th>outcome</th>\n",
       "      <th>my_accuracy</th>\n",
       "      <th>opponent_accuracy</th>\n",
       "    </tr>\n",
       "  </thead>\n",
       "  <tbody>\n",
       "    <tr>\n",
       "      <th>0</th>\n",
       "      <td>10+0</td>\n",
       "      <td>62</td>\n",
       "      <td>2020-12-06</td>\n",
       "      <td>Rapid</td>\n",
       "      <td>White</td>\n",
       "      <td>557</td>\n",
       "      <td>356</td>\n",
       "      <td>methburger682</td>\n",
       "      <td>W</td>\n",
       "      <td>42.3</td>\n",
       "      <td>57.6</td>\n",
       "    </tr>\n",
       "    <tr>\n",
       "      <th>1</th>\n",
       "      <td>10+0</td>\n",
       "      <td>40</td>\n",
       "      <td>2020-12-09</td>\n",
       "      <td>Rapid</td>\n",
       "      <td>Black</td>\n",
       "      <td>643</td>\n",
       "      <td>438</td>\n",
       "      <td>JimenaGallardo</td>\n",
       "      <td>W</td>\n",
       "      <td>64.7</td>\n",
       "      <td>77.7</td>\n",
       "    </tr>\n",
       "    <tr>\n",
       "      <th>2</th>\n",
       "      <td>10+0</td>\n",
       "      <td>25</td>\n",
       "      <td>2020-12-09</td>\n",
       "      <td>Rapid</td>\n",
       "      <td>Black</td>\n",
       "      <td>531</td>\n",
       "      <td>577</td>\n",
       "      <td>DanielBrown1974</td>\n",
       "      <td>L</td>\n",
       "      <td>58.3</td>\n",
       "      <td>76.4</td>\n",
       "    </tr>\n",
       "    <tr>\n",
       "      <th>3</th>\n",
       "      <td>10+0</td>\n",
       "      <td>64</td>\n",
       "      <td>2020-12-09</td>\n",
       "      <td>Rapid</td>\n",
       "      <td>White</td>\n",
       "      <td>625</td>\n",
       "      <td>615</td>\n",
       "      <td>RRR0007</td>\n",
       "      <td>W</td>\n",
       "      <td>81.4</td>\n",
       "      <td>77.5</td>\n",
       "    </tr>\n",
       "    <tr>\n",
       "      <th>4</th>\n",
       "      <td>10+0</td>\n",
       "      <td>12</td>\n",
       "      <td>2020-12-10</td>\n",
       "      <td>Rapid</td>\n",
       "      <td>White</td>\n",
       "      <td>564</td>\n",
       "      <td>639</td>\n",
       "      <td>prune131</td>\n",
       "      <td>L</td>\n",
       "      <td>31.6</td>\n",
       "      <td>55.5</td>\n",
       "    </tr>\n",
       "  </tbody>\n",
       "</table>\n",
       "</div>"
      ],
      "text/plain": [
       "  time_control  moves        date time_format colour  my_rating   \n",
       "0         10+0     62  2020-12-06       Rapid  White        557  \\\n",
       "1         10+0     40  2020-12-09       Rapid  Black        643   \n",
       "2         10+0     25  2020-12-09       Rapid  Black        531   \n",
       "3         10+0     64  2020-12-09       Rapid  White        625   \n",
       "4         10+0     12  2020-12-10       Rapid  White        564   \n",
       "\n",
       "   opponent_rating         opponent outcome  my_accuracy  opponent_accuracy  \n",
       "0              356    methburger682       W         42.3               57.6  \n",
       "1              438   JimenaGallardo       W         64.7               77.7  \n",
       "2              577  DanielBrown1974       L         58.3               76.4  \n",
       "3              615          RRR0007       W         81.4               77.5  \n",
       "4              639         prune131       L         31.6               55.5  "
      ]
     },
     "execution_count": 2,
     "metadata": {},
     "output_type": "execute_result"
    }
   ],
   "source": [
    "games = pd.read_csv('games_cleaned.csv')\n",
    "games.head()"
   ]
  },
  {
   "cell_type": "code",
   "execution_count": 3,
   "id": "73eeae78-9ca9-44e3-9bf4-3403d586c30b",
   "metadata": {},
   "outputs": [
    {
     "name": "stdout",
     "output_type": "stream",
     "text": [
      "<class 'pandas.core.frame.DataFrame'>\n",
      "RangeIndex: 9605 entries, 0 to 9604\n",
      "Data columns (total 11 columns):\n",
      " #   Column             Non-Null Count  Dtype         \n",
      "---  ------             --------------  -----         \n",
      " 0   time_control       9605 non-null   object        \n",
      " 1   moves              9605 non-null   int64         \n",
      " 2   date               9605 non-null   datetime64[ns]\n",
      " 3   time_format        9605 non-null   object        \n",
      " 4   colour             9605 non-null   object        \n",
      " 5   my_rating          9605 non-null   int64         \n",
      " 6   opponent_rating    9605 non-null   int64         \n",
      " 7   opponent           9605 non-null   object        \n",
      " 8   outcome            9605 non-null   object        \n",
      " 9   my_accuracy        9605 non-null   float64       \n",
      " 10  opponent_accuracy  9605 non-null   float64       \n",
      "dtypes: datetime64[ns](1), float64(2), int64(3), object(5)\n",
      "memory usage: 825.6+ KB\n",
      "  time_control  moves       date time_format colour  my_rating   \n",
      "0         10+0     62 2020-12-06       Rapid  White        557  \\\n",
      "1         10+0     40 2020-12-09       Rapid  Black        643   \n",
      "2         10+0     25 2020-12-09       Rapid  Black        531   \n",
      "3         10+0     64 2020-12-09       Rapid  White        625   \n",
      "4         10+0     12 2020-12-10       Rapid  White        564   \n",
      "\n",
      "   opponent_rating         opponent outcome  my_accuracy  opponent_accuracy  \n",
      "0              356    methburger682       W         42.3               57.6  \n",
      "1              438   JimenaGallardo       W         64.7               77.7  \n",
      "2              577  DanielBrown1974       L         58.3               76.4  \n",
      "3              615          RRR0007       W         81.4               77.5  \n",
      "4              639         prune131       L         31.6               55.5  \n"
     ]
    }
   ],
   "source": [
    "games.date = pd.to_datetime(games.date, format = '%Y-%m-%d')\n",
    "games.info()\n",
    "print(games.head())"
   ]
  },
  {
   "cell_type": "markdown",
   "id": "306675db-a3b0-425e-9713-de9e345a2473",
   "metadata": {},
   "source": [
    "## Rating development in Rapid v Blitz over my career"
   ]
  },
  {
   "cell_type": "code",
   "execution_count": 18,
   "id": "f2152d86-2d22-47d6-8236-9e4539533750",
   "metadata": {},
   "outputs": [
    {
     "data": {
      "text/plain": [
       "[<matplotlib.lines.Line2D at 0x1e254d9ae20>]"
      ]
     },
     "execution_count": 18,
     "metadata": {},
     "output_type": "execute_result"
    },
    {
     "data": {
      "image/png": "[encoded data removed]",
      "text/plain": [
       "<Figure size 640x480 with 1 Axes>"
      ]
     },
     "metadata": {},
     "output_type": "display_data"
    }
   ],
   "source": [
    "first_year = games[(games.date.dt.year == 2020) | (games.date.dt.year == 2021)]\n",
    "second_year = games[games.date.dt.year == 2022]\n",
    "third_year = games[games.date.dt.year == 2023]\n",
    "\n",
    "# Rapid\n",
    "plt.plot(first_year[first_year.time_format == 'Rapid'].date,\n",
    "         first_year[first_year.time_format == 'Rapid'].my_rating, color = 'Black')"
   ]
  }
 ],
 "metadata": {
  "kernelspec": {
   "display_name": ".venv",
   "language": "python",
   "name": ".venv"
  },
  "language_info": {
   "codemirror_mode": {
    "name": "ipython",
    "version": 3
   },
   "file_extension": ".py",
   "mimetype": "text/x-python",
   "name": "python",
   "nbconvert_exporter": "python",
   "pygments_lexer": "ipython3",
   "version": "3.9.13"
  }
 },
 "nbformat": 4,
 "nbformat_minor": 5
}
